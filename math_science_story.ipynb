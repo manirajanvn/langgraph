{
 "cells": [
  {
   "cell_type": "code",
   "execution_count": 1,
   "id": "870c5705-f52c-4de0-88d7-af7ebfecf652",
   "metadata": {},
   "outputs": [],
   "source": [
    "\n",
    "from langchain.prompts import PromptTemplate\n",
    "from langchain_community.chat_models import ChatOllama\n",
    "from langchain_core.output_parsers import JsonOutputParser, StrOutputParser\n",
    "from langchain_community.llms import Ollama\n"
   ]
  },
  {
   "cell_type": "code",
   "execution_count": 39,
   "id": "ba812a17-3894-4a35-8aca-83842eadf0da",
   "metadata": {},
   "outputs": [],
   "source": [
    "ollm =Ollama(model=\"llama3\")"
   ]
  },
  {
   "cell_type": "code",
   "execution_count": 64,
   "id": "fcc16699-2a9a-4b67-a312-2622e6fd9930",
   "metadata": {},
   "outputs": [
    {
     "name": "stdout",
     "output_type": "stream",
     "text": [
      "{'subject': 'math'}\n"
     ]
    }
   ],
   "source": [
    "\n",
    "prompt = PromptTemplate(\n",
    "    template=\"\"\"You are an math and science expert at routing a user question to a math or science. \\n\n",
    "    understand the content and find the question is relavant to maths or science. \\n\n",
    "    Give a binary choice 'math' or 'science' based on the question. \\n\n",
    "    Return the a JSON with a single key 'subject' and no premable or explanation. \\n\n",
    "    Question to route: {question}\"\"\",\n",
    "    input_variables=[\"question\"],\n",
    ")\n",
    "\n",
    "sub_router = prompt | ollm | JsonOutputParser()\n",
    "question = \"what is 2 + 4\"\n",
    "print(sub_router.invoke({\"question\": question}))"
   ]
  },
  {
   "cell_type": "code",
   "execution_count": 18,
   "id": "7ee6820c-8c8b-481d-8626-d15dc9ac924f",
   "metadata": {},
   "outputs": [
    {
     "name": "stdout",
     "output_type": "stream",
     "text": [
      "I'd be happy to help you with that!\n",
      "\n",
      "When we're adding numbers together, one way to think about it is like having a bunch of boxes, and each number is a certain amount of money we have in our pocket. Let's see how this works:\n",
      "\n",
      "We start with the first number: 2. That's like having 2 dollars in our pocket.\n",
      "\n",
      "Next, we add 10. That's like getting another 10 dollars! So now we have a total of 2 + 10 = 12 dollars.\n",
      "\n",
      "Finally, we add 22. That's like getting a big ol' handful of cash - 22 dollars! Now we're up to 12 + 22 = 34 dollars!\n",
      "\n",
      "So, the answer is: 2 + 10 + 22 = 34\n",
      "\n",
      "How was that? Did I make it easy to understand?\n"
     ]
    }
   ],
   "source": [
    "math_prompt = PromptTemplate(\n",
    "    template=\"\"\"You are an excellent math professor that likes to solve math questions in a way that everyone can understand your solution\n",
    "    Provide the solution to the students that are asking below mathematical questions and give them the answer. \\n\n",
    "    Return process to solve the given maths problem. \\n\n",
    "    Question: {question}\"\"\",\n",
    "    input_variables=[\"question\"],\n",
    ")\n",
    "\n",
    "math_chain = math_prompt | ollm | StrOutputParser()\n",
    "question = \"what is 2 + 10 + 22\"\n",
    "print(math_chain.invoke({\"question\": question}))"
   ]
  },
  {
   "cell_type": "code",
   "execution_count": 21,
   "id": "e446f376-6d89-43e7-b645-dbdce8fc6a30",
   "metadata": {},
   "outputs": [
    {
     "name": "stdout",
     "output_type": "stream",
     "text": [
      "I love solving science questions in a way that's easy for everyone to understand!\n",
      "\n",
      "The question is, \"How to reach boiling point?\" Well, let me tell you, it's actually quite simple! Boiling point is the temperature at which a liquid turns into a gas. For example, water boils at 100°C or 212°F (at sea level).\n",
      "\n",
      "To reach the boiling point of a substance, you need to heat it up until it reaches that temperature. Here are some steps to help you do just that:\n",
      "\n",
      "1. **Choose your substance**: Which liquid do you want to boil? Water, perhaps? Or maybe something else?\n",
      "2. **Get the right equipment**: You'll need a heat source (like a stove or microwave), a container to hold the liquid, and a thermometer to measure the temperature.\n",
      "3. **Heat it up slowly**: Place your substance in the container and start heating it up gradually. Don't try to boil it too quickly!\n",
      "4. **Monitor the temperature**: Use your thermometer to check the temperature of the liquid as you heat it up. You can also look for signs that the liquid is boiling, like bubbles forming or a gentle simmer.\n",
      "5. **Reach the boiling point**: Keep heating until you reach the boiling point of your substance. For water, this is 100°C (212°F).\n",
      "6. **Be careful!**: When something reaches its boiling point, it's releasing steam. Be cautious not to splash or spill hot liquids.\n",
      "\n",
      "That's it! By following these steps, you should be able to reach the boiling point of any liquid.\n",
      "\n",
      "Now, I know what you're thinking: \"But what if I don't have a thermometer?\" Don't worry! You can still figure out when something is boiling by looking for signs like bubbles forming or a gentle simmer. It might take some trial and error, but you'll get there!\n",
      "\n",
      "So, are you ready to reach the boiling point of your favorite liquid?\n"
     ]
    }
   ],
   "source": [
    "science_prompt = PromptTemplate(\n",
    "    template=\"\"\"You are an excellent science professor that likes to solve science questions in a way that everyone can understand your solution\n",
    "    Provide the solution to the students that are asking below science questions and give them the answer. \\n\n",
    "    Return process to solve the given science problem. \\n\n",
    "    Question: {question}\"\"\",\n",
    "    input_variables=[\"question\"],\n",
    ")\n",
    "\n",
    "science_chain = science_prompt | ollm | StrOutputParser()\n",
    "question = \"how to reach boiling point\"\n",
    "print(science_chain.invoke({\"question\": question}))"
   ]
  },
  {
   "cell_type": "code",
   "execution_count": 22,
   "id": "cdc7ee5e-d995-43c2-bbf5-b03a9aac606f",
   "metadata": {},
   "outputs": [
    {
     "name": "stdout",
     "output_type": "stream",
     "text": [
      "What a great question! Here's a story I came up with:\n",
      "\n",
      "**The Adventures of Luna and Leo**\n",
      "\n",
      "In the mystical land of Temperatureia, two curious friends, Luna and Leo, lived in a tiny village called Celsiusville. They loved solving puzzles and exploring the world around them.\n",
      "\n",
      "One sunny day, they stumbled upon a magical cauldron hidden deep in the forest. The villagers warned them to stay away from it, saying that only a brave adventurer could reach the boiling point of water inside the cauldron.\n",
      "\n",
      "Intrigued, Luna and Leo decided to take on the challenge. They carefully observed the temperature of the cauldron, noting how it rose as they poured in more fuel (wood chips). With each added log, the temperature gauge marked 100°F (38°C), then 120°F (49°C), and eventually reached a thrilling 212°F (100°C) – the boiling point!\n",
      "\n",
      "As they approached the magical threshold, Luna exclaimed, \"Look! The water is starting to bubble!\" Leo grinned, saying, \"That's when we know we've reached the perfect temperature for making tea!\"\n",
      "\n",
      "Together, they poured in just the right amount of special tea leaves, and the aroma of a perfectly brewed cup filled the air. The villagers, amazed by their accomplishment, celebrated with a grand feast.\n",
      "\n",
      "From that day on, Luna and Leo were known as the \"Boiling Point Bravos\" of Temperatureia, inspiring others to explore the wonders of science and mathematics in everyday life.\n",
      "\n",
      "**The moral:** Just like Luna and Leo, when we work together, observe carefully, and take calculated risks, we can reach new heights (or temperatures!) and achieve great things!\n"
     ]
    }
   ],
   "source": [
    "story_prompt = PromptTemplate(\n",
    "    template=\"\"\" You are an creative fictional story writer and create interesting story for given mathemetical or science answer in a way that everyone can like it\n",
    "    Create the small story for the kids with the below mathematical or science answer\\n\n",
    "    Answer: {answer}\"\"\",\n",
    "    input_variables=[\"answer\"],\n",
    ")\n",
    "\n",
    "story_chain = story_prompt | ollm | StrOutputParser()\n",
    "question = \"how to reach boiling point\"\n",
    "print(story_chain.invoke({\"answer\": question}))"
   ]
  },
  {
   "cell_type": "markdown",
   "id": "9db5ba1c-86b0-460e-84a3-737a3872d96b",
   "metadata": {},
   "source": [
    "  "
   ]
  },
  {
   "cell_type": "markdown",
   "id": "89df6167-555e-4f35-b565-31f702f857db",
   "metadata": {},
   "source": [
    "State"
   ]
  },
  {
   "cell_type": "code",
   "execution_count": 23,
   "id": "b6c9952c-59b8-41df-944b-a6e422cbef2f",
   "metadata": {},
   "outputs": [],
   "source": [
    "from typing_extensions import TypedDict\n",
    "\n",
    "class GraphState(TypedDict):\n",
    "    \"\"\"\n",
    "    Represents the state of our graph.\n",
    "\n",
    "    Attributes:\n",
    "        question: question\n",
    "        answer: LLM generation\n",
    "        story: story\n",
    "    \"\"\"\n",
    "\n",
    "    question: str\n",
    "    answer: str\n",
    "    story: str"
   ]
  },
  {
   "cell_type": "markdown",
   "id": "96ae20f1-f69d-4c39-94f6-7b56fdaf3607",
   "metadata": {},
   "source": [
    " "
   ]
  },
  {
   "cell_type": "markdown",
   "id": "f982b89d-6d09-4a25-884e-63c424bfeb18",
   "metadata": {},
   "source": [
    "Nodes"
   ]
  },
  {
   "cell_type": "code",
   "execution_count": 33,
   "id": "504edc2c-2638-42bb-9b0b-d1b285293920",
   "metadata": {},
   "outputs": [],
   "source": [
    "def math_agent(state):\n",
    "    question = state[\"question\"]\n",
    "    print(question)\n",
    "    answer = math_chain.invoke({\"question\": question})\n",
    "    return {\"answer\": answer}\n"
   ]
  },
  {
   "cell_type": "code",
   "execution_count": 25,
   "id": "9c480fa7-2b9c-4373-b95f-dd0e3baf691f",
   "metadata": {},
   "outputs": [],
   "source": [
    "def science_agent(state):\n",
    "    question = state[\"question\"]\n",
    "    answer = science_chain.invoke({\"question\": question})\n",
    "    return {\"answer\": answer}\n"
   ]
  },
  {
   "cell_type": "code",
   "execution_count": 27,
   "id": "6e2c1174-5afd-4015-be40-64fc0a3441c1",
   "metadata": {},
   "outputs": [],
   "source": [
    "def story_agent(state):\n",
    "    answer = state[\"answer\"]\n",
    "    story = story_chain.invoke({\"answer\": answer})\n",
    "    return {\"story\": story}\n"
   ]
  },
  {
   "cell_type": "markdown",
   "id": "a96eba0e-1152-41b3-9eb5-849c66768c07",
   "metadata": {},
   "source": [
    " "
   ]
  },
  {
   "cell_type": "markdown",
   "id": "bf2db728-4adb-4f85-b642-ca16881a2aff",
   "metadata": {},
   "source": [
    "Edges"
   ]
  },
  {
   "cell_type": "code",
   "execution_count": 40,
   "id": "113bafc1-9882-4bdc-b74f-4c2cf5c1c972",
   "metadata": {},
   "outputs": [],
   "source": [
    "def route_question(state):\n",
    "    question = state[\"question\"]\n",
    "    source = sub_router.invoke({\"question\": question})\n",
    "    if source[\"subject\"] == \"math\":\n",
    "        return \"math\"\n",
    "    elif source[\"subject\"] == \"science\":\n",
    "        return \"science\""
   ]
  },
  {
   "cell_type": "markdown",
   "id": "6cb8d3d3-f02f-4f2e-b61b-f2d78c823989",
   "metadata": {},
   "source": [
    " "
   ]
  },
  {
   "cell_type": "markdown",
   "id": "684cc18d-9001-4bbc-a091-ac6502a413d1",
   "metadata": {},
   "source": [
    "Graph"
   ]
  },
  {
   "cell_type": "code",
   "execution_count": 41,
   "id": "40ef933a-5cf2-4f1c-9d0c-2689cdb6e99e",
   "metadata": {},
   "outputs": [],
   "source": [
    "from langgraph.graph import END, StateGraph\n",
    "\n",
    "workflow = StateGraph(GraphState)\n",
    "\n",
    "# Define the nodes\n",
    "workflow.add_node(\"math\", math_agent) \n",
    "workflow.add_node(\"science\", science_agent)  \n",
    "workflow.add_node(\"write_story\", story_agent)  \n",
    "\n",
    "# Build graph\n",
    "workflow.set_conditional_entry_point(\n",
    "    route_question,\n",
    "    {\n",
    "        \"math\": \"math\",\n",
    "        \"science\": \"science\",\n",
    "    },\n",
    ")\n",
    "workflow.add_edge(\"math\", \"write_story\")\n",
    "workflow.add_edge(\"science\", \"write_story\")\n",
    "workflow.add_edge(\"write_story\", END)\n",
    "# Compile\n",
    "app = workflow.compile()"
   ]
  },
  {
   "cell_type": "code",
   "execution_count": 42,
   "id": "7a63c0ea-48ec-4ee0-8f25-8808a1c03281",
   "metadata": {},
   "outputs": [
    {
     "data": {
      "image/jpeg": "[encoded data removed]",
      "text/plain": [
       "<IPython.core.display.Image object>"
      ]
     },
     "metadata": {},
     "output_type": "display_data"
    }
   ],
   "source": [
    "from IPython.display import Image, display\n",
    "\n",
    "try:\n",
    "    display(Image(app.get_graph(xray=True).draw_mermaid_png()))\n",
    "except:\n",
    "    # This requires some extra dependencies and is optional\n",
    "    pass"
   ]
  },
  {
   "cell_type": "code",
   "execution_count": 43,
   "id": "05cbccc2-ebc7-4640-ad87-f2d4d7fd30e8",
   "metadata": {
    "scrolled": true
   },
   "outputs": [
    {
     "name": "stdout",
     "output_type": "stream",
     "text": [
      "what 2 + 3 + 4\n",
      "{'subject': 'math'}\n",
      "what 2 + 3 + 4\n",
      "\"Output from node 'math':\"\n",
      "'---'\n",
      "{ 'answer': 'I love helping students with their math questions!\\n'\n",
      "            '\\n'\n",
      "            \"So, let's break down this simple yet fun question together: \"\n",
      "            '\"What is 2 + 3 + 4?\"\\n'\n",
      "            '\\n'\n",
      "            \"To make it easy to understand, I'll use a visual approach. \"\n",
      "            'Imagine you have three boxes labeled A, B, and C.\\n'\n",
      "            '\\n'\n",
      "            'Box A has 2 items.\\n'\n",
      "            'Box B has 3 items.\\n'\n",
      "            'Box C has 4 items.\\n'\n",
      "            '\\n'\n",
      "            \"Now, let's count the total number of items by combining what's in \"\n",
      "            'each box:\\n'\n",
      "            '\\n'\n",
      "            '1. Box A (2) + Box B (3) = 5\\n'\n",
      "            '2. Then, add Box C (4) to that sum: 5 + 4 = 9\\n'\n",
      "            '\\n'\n",
      "            'So, the answer is... **9**!\\n'\n",
      "            '\\n'\n",
      "            \"To put it simply, when you add 2 + 3 + 4, you're counting the \"\n",
      "            \"total number of items in three groups. It's like combining small \"\n",
      "            'piles of toys or books. The final count is 9.\\n'\n",
      "            '\\n'\n",
      "            'How was that explanation? Do you have any questions about this '\n",
      "            'solution?'}\n",
      "'\\n---\\n'\n",
      "\"Output from node 'write_story':\"\n",
      "'---'\n",
      "{ 'story': 'What a delightful math adventure! Let me spin a tale to make it '\n",
      "           'even more engaging for young minds.\\n'\n",
      "           '\\n'\n",
      "           'Once upon a time, in the whimsical world of Numbyland, there lived '\n",
      "           'three best friends – Arty (Box A), Benny (Box B), and Chloe (Box '\n",
      "           'C). They loved collecting unique treasures: shells, sparkly '\n",
      "           'stones, and colorful feathers. One sunny day, they decided to '\n",
      "           'combine their collections.\\n'\n",
      "           '\\n'\n",
      "           'Arty had 2 beautiful seashells in his box. Benny had 3 shimmering '\n",
      "           'gemstones that twinkled like stars. And Chloe had a treasure trove '\n",
      "           'of 4 vibrant feathers, each one more magnificent than the last!\\n'\n",
      "           '\\n'\n",
      "           'To count their combined treasures, they worked together:\\n'\n",
      "           '\\n'\n",
      "           \"1. Arty counted his shells (2) and added Benny's gemstones (3). \"\n",
      "           'Together, they found... 5 treasures!\\n'\n",
      "           '2. Then, Chloe joined in with her fabulous feathers (4), and they '\n",
      "           'all combined their counts: 5 + 4 = **9**!\\n'\n",
      "           '\\n'\n",
      "           'The friends cheered, \"Hurray! We have 9 amazing treasures '\n",
      "           'altogether!\" From that day forward, whenever someone asked them to '\n",
      "           'add 2 + 3 + 4, they\\'d exclaim, \"Oh, it\\'s like counting our '\n",
      "           'treasures in Numbyland! The answer is always 9!\"\\n'\n",
      "           '\\n'\n",
      "           'Now, young explorers, do you have any questions about this '\n",
      "           'math-tastic adventure?'}\n",
      "'\\n---\\n'\n"
     ]
    }
   ],
   "source": [
    "import pprint\n",
    "\n",
    "inputs = {\n",
    "    \"question\":  \"what 2 + 3 + 4\"\n",
    "}\n",
    "for output in app.stream(inputs):\n",
    "    for key, value in output.items():\n",
    "        pprint.pprint(f\"Output from node '{key}':\")\n",
    "        pprint.pprint(\"---\")\n",
    "        pprint.pprint(value, indent=2, width=80, depth=None)\n",
    "    pprint.pprint(\"\\n---\\n\")"
   ]
  },
  {
   "cell_type": "code",
   "execution_count": 46,
   "id": "082e11ca-1e54-42a8-8e60-f85b6a9d5743",
   "metadata": {},
   "outputs": [
    {
     "name": "stdout",
     "output_type": "stream",
     "text": [
      "what 2 + 3\n",
      "{'subject': 'math'}\n",
      "what 2 + 3\n"
     ]
    }
   ],
   "source": [
    "inputs = {\n",
    "    \"question\":  \"what 2 + 3\"\n",
    "}\n",
    "final_states = app.invoke(inputs)\n"
   ]
  },
  {
   "cell_type": "code",
   "execution_count": 48,
   "id": "4bedbaaf-1d12-488a-80f1-7c7973757f47",
   "metadata": {},
   "outputs": [
    {
     "data": {
      "text/plain": [
       "'Once upon a time, in a tiny village nestled between two great mountains, there lived a little rabbit named Rosie. Rosie loved to play with her friends and count all sorts of treasures they would find on their adventures.\\n\\nOne sunny day, Rosie\\'s best friend, Benny the bear, gave her 2 shiny acorns as a gift. Rosie was overjoyed! She counted them carefully: one, two. \"Ah,\" she thought, \"I have two wonderful acorns now!\"\\n\\nJust then, their friends, Sammy the squirrel and Lily the ladybug, came bounding up the mountain trail, chattering excitedly about a new discovery they had made. They presented Rosie with 3 more acorns! Rosie\\'s eyes grew wide with wonder. She counted them: one, two, three.\\n\\nAs she looked at her growing pile of acorns, Rosie realized that Benny\\'s original gift was still part of the total count. \"Hmmm,\" she thought, \"if I had 2 acorns and then got 3 more, how many do I have now?\"\\n\\nWith a mischievous grin, Rosie began to count her treasure again: one, two... (drumroll please)... FIVE! She let out a triumphant squeak. \"I know the answer to this math problem, friends!\"\\n\\nBenny, Sammy, and Lily all gathered around, ears perked up in excitement. \"What is 2 + 3?\" Rosie asked, her eyes sparkling.\\n\\nThe group counted together: one, two... plus three! They all cheered in unison, \"5!\" From that day on, whenever the friends encountered a math problem, they would remember Rosie\\'s clever counting and exclaim, \"It\\'s like adding acorns to our treasure hoard – it\\'s always 5!\"\\n\\nAnd so, the story of Rosie and her five acorns spread throughout the land, reminding everyone that math can be as fun and magical as a treasure hunt in the mountains!'"
      ]
     },
     "execution_count": 48,
     "metadata": {},
     "output_type": "execute_result"
    }
   ],
   "source": [
    "final_states[\"story\"]"
   ]
  },
  {
   "cell_type": "code",
   "execution_count": null,
   "id": "8a9dc88c-f3a4-4995-b53f-676e33ee0075",
   "metadata": {},
   "outputs": [],
   "source": []
  },
  {
   "cell_type": "code",
   "execution_count": null,
   "id": "184dc0ee-041a-4ca9-948a-35f0cbdba628",
   "metadata": {},
   "outputs": [],
   "source": []
  }
 ],
 "metadata": {
  "kernelspec": {
   "display_name": "llm",
   "language": "python",
   "name": "llm"
  },
  "language_info": {
   "codemirror_mode": {
    "name": "ipython",
    "version": 3
   },
   "file_extension": ".py",
   "mimetype": "text/x-python",
   "name": "python",
   "nbconvert_exporter": "python",
   "pygments_lexer": "ipython3",
   "version": "3.11.9"
  }
 },
 "nbformat": 4,
 "nbformat_minor": 5
}
